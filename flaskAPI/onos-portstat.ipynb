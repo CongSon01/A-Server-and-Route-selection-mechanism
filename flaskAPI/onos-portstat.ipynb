{
 "cells": [
  {
   "cell_type": "code",
   "execution_count": 2,
   "metadata": {},
   "outputs": [],
   "source": [
    "import requests as rq\n",
    "from requests.auth import HTTPBasicAuth\n",
    "import json\n",
    "import pandas as pd\n",
    "import datetime\n",
    "import time"
   ]
  },
  {
   "cell_type": "code",
   "execution_count": 3,
   "metadata": {},
   "outputs": [],
   "source": [
    "login = {\n",
    "    'username': 'onos',\n",
    "    'password': 'rocks',\n",
    "}\n",
    "auth =  HTTPBasicAuth(login['username'], login['password'])"
   ]
  },
  {
   "cell_type": "code",
   "execution_count": 7,
   "metadata": {},
   "outputs": [],
   "source": [
    "response_1 = rq.get(\"http://localhost:8181/onos/v1/statistics/ports\", auth=auth)\n",
    "link =  \"http://localhost:8181/onos/v1/statistics/delta/ports/\" + \"of:0000000000000001/\" + \"1\"\n",
    "response_1 = rq.get(link, auth=auth)\n",
    "data_1 = json.loads(response_1.content)\n",
    "data_2 = json.loads(response_2.content)"
   ]
  },
  {
   "cell_type": "code",
   "execution_count": 9,
   "metadata": {},
   "outputs": [
    {
     "data": {
      "text/plain": [
       "[{'device': 'of:0000000000000001',\n",
       "  'ports': [{'port': 1,\n",
       "    'packetsReceived': 0,\n",
       "    'packetsSent': 5,\n",
       "    'bytesReceived': 0,\n",
       "    'bytesSent': 603,\n",
       "    'packetsRxDropped': 0,\n",
       "    'packetsTxDropped': 0,\n",
       "    'packetsRxErrors': 0,\n",
       "    'packetsTxErrors': 0,\n",
       "    'durationSec': 4}]}]"
      ]
     },
     "execution_count": 9,
     "metadata": {},
     "output_type": "execute_result"
    }
   ],
   "source": [
    "data_1['statistics']"
   ]
  },
  {
   "cell_type": "code",
   "execution_count": null,
   "metadata": {},
   "outputs": [],
   "source": [
    "device_2_rx = data_2['statistics'][1]['ports'][1]['packetsReceived']\n",
    "device_2_tx = data_2['statistics'][1]['ports'][1]['packetsSent']"
   ]
  },
  {
   "cell_type": "code",
   "execution_count": null,
   "metadata": {},
   "outputs": [],
   "source": [
    "device_1_rx = data_2['statistics'][0]['ports'][1]['packetsReceived']\n",
    "device_1_tx = data_2['statistics'][0]['ports'][1]['packetsSent']\n"
   ]
  },
  {
   "cell_type": "code",
   "execution_count": null,
   "metadata": {},
   "outputs": [],
   "source": [
    "packet_data = pd.DataFrame(columns=['device_1_rx', 'device_1_tx', 'device_2_rx', 'device_2_tx'])\n",
    "timestamp = str(datetime.datetime.now().hour) + ':' + str(datetime.datetime.now().minute) + ':' + str(datetime.datetime.now().second)\n",
    "# packet_data.loc[timestamp] = [device_1_rx, device_1_tx, device_2_rx, device_2_tx]\n",
    "# packet_data.append(pd.DataFrame([[device_1_rx, device_1_tx, device_2_rx, device_2_tx]], columns=['device_1_rx', 'device_1_tx', 'device_2_rx', 'device_2_tx'], index=packet_data.colu, name=timestamp))\n"
   ]
  },
  {
   "cell_type": "code",
   "execution_count": null,
   "metadata": {},
   "outputs": [],
   "source": [
    "# packet_data = pd.DataFrame(columns=['device_1_rx', 'device_1_tx', 'device_2_rx', 'device_2_tx'])\n",
    "\n",
    "# for i in range(20):\n",
    "    \n",
    "#     response_1 = rq.get(\"http://localhost:8181/onos/v1/statistics/ports\", auth=auth)\n",
    "#     response_2 = rq.get(\"http://localhost:8181/onos/v1/statistics/delta/ports\", auth=auth)\n",
    "#     data_1 = json.loads(response_1.content)\n",
    "#     data_2 = json.loads(response_2.content)\n",
    "    \n",
    "#     device_1_rx = data_2['statistics'][0]['ports'][1]['packetsReceived']\n",
    "#     device_1_tx = data_2['statistics'][0]['ports'][1]['packetsSent']\n",
    "\n",
    "#     device_2_rx = data_2['statistics'][1]['ports'][1]['packetsReceived']\n",
    "#     device_2_tx = data_2['statistics'][1]['ports'][1]['packetsSent']    \n",
    "\n",
    "#     timestamp = str(datetime.datetime.now().hour) + ':' + str(datetime.datetime.now().minute) + ':' + str(datetime.datetime.now().second)\n",
    "#     packet_data.loc[i] = [device_1_rx, device_1_tx, device_2_rx, device_2_tx]\n",
    "#     # packet_data.append(pd.DataFrame([[device_1_rx, device_1_tx, device_2_rx, device_2_tx]], columns=['device_1_rx', 'device_1_tx', 'device_2_rx', 'device_2_tx'], index=packet_data.columns, name=timestamp))\n",
    "    \n",
    "    \n",
    "#     time.sleep(3)\n",
    "    \n",
    "# packet_data"
   ]
  },
  {
   "cell_type": "code",
   "execution_count": null,
   "metadata": {},
   "outputs": [],
   "source": [
    "packet_data = pd.DataFrame(columns=['device_1_rx', 'device_1_tx', 'device_2_rx', 'device_2_tx'])\n",
    "\n",
    "for i in range(3):\n",
    "    \n",
    "    response_1 = rq.get(\"http://localhost:8181/onos/v1/statistics/ports\", auth=auth)\n",
    "    response_2 = rq.get(\"http://localhost:8181/onos/v1/statistics/delta/ports\", auth=auth)\n",
    "    data_1 = json.loads(response_1.content)\n",
    "    data_2 = json.loads(response_2.content)\n",
    "    \n",
    "    device_1_rx = data_2['statistics'][0]['ports'][1]['packetsReceived']\n",
    "    device_1_tx = data_2['statistics'][0]['ports'][1]['packetsSent']\n",
    "\n",
    "    device_2_rx = data_2['statistics'][1]['ports'][1]['packetsReceived']\n",
    "    device_2_tx = data_2['statistics'][1]['ports'][1]['packetsSent']    \n",
    "\n",
    "    timestamp = str(datetime.datetime.now().hour) + ':' + str(datetime.datetime.now().minute) + ':' + str(datetime.datetime.now().second)\n",
    "    packet_data.loc[i] = [device_1_rx, device_1_tx, device_2_rx, device_2_tx]\n",
    "    # packet_data.append(pd.DataFrame([[device_1_rx, device_1_tx, device_2_rx, device_2_tx]], columns=['device_1_rx', 'device_1_tx', 'device_2_rx', 'device_2_tx'], index=packet_data.columns, name=timestamp))\n",
    "    \n",
    "    \n",
    "    time.sleep(3)\n",
    "    \n",
    "packet_data"
   ]
  },
  {
   "cell_type": "code",
   "execution_count": null,
   "metadata": {},
   "outputs": [],
   "source": []
  }
 ],
 "metadata": {
  "interpreter": {
   "hash": "31f2aee4e71d21fbe5cf8b01ff0e069b9275f58929596ceb00d14d90e3e16cd6"
  },
  "kernelspec": {
   "display_name": "Python 3.6.9 64-bit",
   "language": "python",
   "name": "python3"
  },
  "language_info": {
   "codemirror_mode": {
    "name": "ipython",
    "version": 3
   },
   "file_extension": ".py",
   "mimetype": "text/x-python",
   "name": "python",
   "nbconvert_exporter": "python",
   "pygments_lexer": "ipython3",
   "version": "3.8.12"
  },
  "orig_nbformat": 4
 },
 "nbformat": 4,
 "nbformat_minor": 2
}
