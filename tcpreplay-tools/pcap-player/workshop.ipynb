{
 "cells": [
  {
   "cell_type": "code",
   "execution_count": 4,
   "metadata": {},
   "outputs": [],
   "source": [
    "import tomllib"
   ]
  },
  {
   "cell_type": "code",
   "execution_count": 14,
   "metadata": {},
   "outputs": [
    {
     "name": "stdout",
     "output_type": "stream",
     "text": [
      "{'hosts': [[0, 0, 1], [0, 0, 1], [0, 0, 1]], 'switch': [[1, 0, 0], [0, 1, 0], [0, 0, 1]]}\n"
     ]
    }
   ],
   "source": [
    "with open('./gen-config.toml', mode=\"rb\") as fp:\n",
    "    config = tomllib.load(fp)"
   ]
  },
  {
   "cell_type": "code",
   "execution_count": 1,
   "metadata": {},
   "outputs": [
    {
     "data": {
      "text/plain": [
       "[104, 16, 95, 92, 17, 140, 77, 205, 27, 136, 255, 183, 169]"
      ]
     },
     "execution_count": 1,
     "metadata": {},
     "output_type": "execute_result"
    }
   ],
   "source": [
    "hex_string = \"68105f5c118c4dcd1b88ffb7a9\" \n",
    "[int(hex_string[i:i+2], 16) for i in range(0, len(hex_string), 2)]"
   ]
  }
 ],
 "metadata": {
  "kernelspec": {
   "display_name": "venv10",
   "language": "python",
   "name": "python3"
  },
  "language_info": {
   "codemirror_mode": {
    "name": "ipython",
    "version": 3
   },
   "file_extension": ".py",
   "mimetype": "text/x-python",
   "name": "python",
   "nbconvert_exporter": "python",
   "pygments_lexer": "ipython3",
   "version": "3.10.10"
  },
  "orig_nbformat": 4,
  "vscode": {
   "interpreter": {
    "hash": "4477559b2d24bb5c1b84f4a6a067c93d09e8b2dea014104168a579b4732acbcd"
   }
  }
 },
 "nbformat": 4,
 "nbformat_minor": 2
}
